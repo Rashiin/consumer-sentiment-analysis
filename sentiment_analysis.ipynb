{
 "cells": [
  {
   "cell_type": "markdown",
   "id": "cffee19b",
   "metadata": {},
   "source": [
    "# 📌 Sentiment Analysis for Consumer Behavior Prediction\n",
    "## 🚀 NLP-Based Machine Learning Model\n",
    "This project performs **sentiment analysis** on customer reviews from the **IMDB Dataset**. The goal is to predict whether a review is **positive** or **negative** using different machine learning models.\n"
   ]
  },
  {
   "cell_type": "code",
   "execution_count": 1,
   "id": "7574542a",
   "metadata": {},
   "outputs": [
    {
     "name": "stderr",
     "output_type": "stream",
     "text": [
      "/Users/rashinfarahani/opt/anaconda3/lib/python3.9/site-packages/pandas/core/arrays/masked.py:60: UserWarning: Pandas requires version '1.3.6' or newer of 'bottleneck' (version '1.3.4' currently installed).\n",
      "  from pandas.core import (\n"
     ]
    }
   ],
   "source": [
    "# Import necessary libraries\n",
    "import pandas as pd\n",
    "import re\n",
    "import nltk\n",
    "from nltk.corpus import stopwords\n",
    "from nltk.tokenize import word_tokenize\n",
    "from nltk.stem import PorterStemmer\n",
    "from sklearn.model_selection import train_test_split\n",
    "from sklearn.feature_extraction.text import TfidfVectorizer\n",
    "from sklearn.linear_model import LogisticRegression\n",
    "from sklearn.metrics import classification_report, accuracy_score\n",
    "from sklearn.pipeline import Pipeline\n",
    "from sklearn.linear_model import PassiveAggressiveClassifier\n"
   ]
  },
  {
   "cell_type": "code",
   "execution_count": 2,
   "id": "29ea1897",
   "metadata": {},
   "outputs": [
    {
     "name": "stderr",
     "output_type": "stream",
     "text": [
      "[nltk_data] Downloading package stopwords to\n",
      "[nltk_data]     /Users/rashinfarahani/nltk_data...\n",
      "[nltk_data]   Package stopwords is already up-to-date!\n",
      "[nltk_data] Downloading package punkt to\n",
      "[nltk_data]     /Users/rashinfarahani/nltk_data...\n",
      "[nltk_data]   Unzipping tokenizers/punkt.zip.\n"
     ]
    },
    {
     "data": {
      "text/plain": [
       "True"
      ]
     },
     "execution_count": 2,
     "metadata": {},
     "output_type": "execute_result"
    }
   ],
   "source": [
    "# Download necessary resources\n",
    "nltk.download('stopwords')\n",
    "nltk.download('punkt')"
   ]
  },
  {
   "cell_type": "markdown",
   "id": "eed489c6",
   "metadata": {},
   "source": [
    "## 📂 Step 1: Load & Preprocess Data\n",
    "We load the IMDB dataset and clean the text by removing HTML tags, converting to lowercase, and filtering out non-alphabetic characters.\n"
   ]
  },
  {
   "cell_type": "code",
   "execution_count": 4,
   "id": "9e2eb2ad",
   "metadata": {},
   "outputs": [],
   "source": [
    "# 1. Load the dataset\n",
    "data = pd.read_csv('IMDB Dataset.csv')\n"
   ]
  },
  {
   "cell_type": "code",
   "execution_count": 5,
   "id": "bd6d2505",
   "metadata": {},
   "outputs": [],
   "source": [
    "# For a lightweight project, sample a subset of the data\n",
    "data = data.sample(5000, random_state=42)  # Select 5000 random samples\n"
   ]
  },
  {
   "cell_type": "code",
   "execution_count": 6,
   "id": "94652eb0",
   "metadata": {},
   "outputs": [],
   "source": [
    "# 2. Preprocess the text data\n",
    "stop_words = set(stopwords.words('english'))\n",
    "stemmer = PorterStemmer()\n"
   ]
  },
  {
   "cell_type": "code",
   "execution_count": 7,
   "id": "4d7c0a45",
   "metadata": {},
   "outputs": [],
   "source": [
    "def clean_text(text):\n",
    "    text = text.lower()  # Convert text to lowercase\n",
    "    text = re.sub(r'<[^>]+>', '', text)  # Remove HTML tags\n",
    "    text = re.sub(r'[^a-z]', ' ', text)  # Remove non-letter characters\n",
    "    tokens = word_tokenize(text)  # Tokenize words\n",
    "    tokens = [stemmer.stem(word) for word in tokens if word not in stop_words]  # Remove stopwords & apply stemming\n",
    "    return ' '.join(tokens)\n",
    "\n"
   ]
  },
  {
   "cell_type": "code",
   "execution_count": 8,
   "id": "100a0f3d",
   "metadata": {},
   "outputs": [],
   "source": [
    "data['cleaned_review'] = data['review'].apply(clean_text)\n"
   ]
  },
  {
   "cell_type": "code",
   "execution_count": 9,
   "id": "f4b04dc2",
   "metadata": {},
   "outputs": [],
   "source": [
    "# 3. Convert sentiment labels to numerical values\n",
    "data['sentiment'] = data['sentiment'].map({'positive': 1, 'negative': 0})\n"
   ]
  },
  {
   "cell_type": "code",
   "execution_count": 10,
   "id": "f5ba97fb",
   "metadata": {},
   "outputs": [],
   "source": [
    "# 4. Split the data into training and testing sets\n",
    "X_train, X_test, y_train, y_test = train_test_split(\n",
    "    data['cleaned_review'], data['sentiment'], test_size=0.2, random_state=42\n",
    ")\n"
   ]
  },
  {
   "cell_type": "markdown",
   "id": "55743685",
   "metadata": {},
   "source": [
    "## 🔍 Step 2: Feature Extraction\n",
    "We use **TF-IDF Vectorization** to convert text data into numerical format.\n"
   ]
  },
  {
   "cell_type": "code",
   "execution_count": 11,
   "id": "9f5dcf9d",
   "metadata": {},
   "outputs": [],
   "source": [
    "# 5. Transform text into feature vectors using TF-IDF with n-grams\n",
    "vectorizer = TfidfVectorizer(max_features=5000, ngram_range=(1,3))\n",
    "X_train_tfidf = vectorizer.fit_transform(X_train)\n",
    "X_test_tfidf = vectorizer.transform(X_test)\n"
   ]
  },
  {
   "cell_type": "code",
   "execution_count": 12,
   "id": "2c2f2b7b",
   "metadata": {},
   "outputs": [],
   "source": [
    "# 6. Train and compare two lightweight models: Logistic Regression & Passive Aggressive Classifier\n",
    "models = {\n",
    "    \"Logistic Regression\": LogisticRegression(max_iter=200),\n",
    "    \"Passive Aggressive Classifier\": PassiveAggressiveClassifier(max_iter=200)\n",
    "}\n",
    "\n"
   ]
  },
  {
   "cell_type": "code",
   "execution_count": 13,
   "id": "d1a9ea66",
   "metadata": {},
   "outputs": [
    {
     "name": "stdout",
     "output_type": "stream",
     "text": [
      "--- Logistic Regression ---\n",
      "Accuracy: 0.853\n",
      "\n",
      "Classification Report:\n",
      "               precision    recall  f1-score   support\n",
      "\n",
      "           0       0.88      0.82      0.85       506\n",
      "           1       0.83      0.89      0.86       494\n",
      "\n",
      "    accuracy                           0.85      1000\n",
      "   macro avg       0.85      0.85      0.85      1000\n",
      "weighted avg       0.85      0.85      0.85      1000\n",
      "\n",
      "--- Passive Aggressive Classifier ---\n",
      "Accuracy: 0.849\n",
      "\n",
      "Classification Report:\n",
      "               precision    recall  f1-score   support\n",
      "\n",
      "           0       0.86      0.83      0.85       506\n",
      "           1       0.83      0.87      0.85       494\n",
      "\n",
      "    accuracy                           0.85      1000\n",
      "   macro avg       0.85      0.85      0.85      1000\n",
      "weighted avg       0.85      0.85      0.85      1000\n",
      "\n"
     ]
    }
   ],
   "source": [
    "for model_name, model in models.items():\n",
    "    model.fit(X_train_tfidf, y_train)\n",
    "    y_pred = model.predict(X_test_tfidf)\n",
    "    \n",
    "    print(f\"--- {model_name} ---\")\n",
    "    print(\"Accuracy:\", accuracy_score(y_test, y_pred))\n",
    "    print(\"\\nClassification Report:\\n\", classification_report(y_test, y_pred))"
   ]
  },
  {
   "cell_type": "code",
   "execution_count": 17,
   "id": "893407fc",
   "metadata": {},
   "outputs": [
    {
     "name": "stdout",
     "output_type": "stream",
     "text": [
      "Collecting shap\n",
      "  Using cached shap-0.46.0-cp39-cp39-macosx_10_9_x86_64.whl.metadata (24 kB)\n",
      "Requirement already satisfied: numpy in /Users/rashinfarahani/opt/anaconda3/lib/python3.9/site-packages (from shap) (1.26.4)\n",
      "Requirement already satisfied: scipy in /Users/rashinfarahani/opt/anaconda3/lib/python3.9/site-packages (from shap) (1.13.1)\n",
      "Requirement already satisfied: scikit-learn in /Users/rashinfarahani/opt/anaconda3/lib/python3.9/site-packages (from shap) (1.6.1)\n",
      "Requirement already satisfied: pandas in /Users/rashinfarahani/opt/anaconda3/lib/python3.9/site-packages (from shap) (2.2.3)\n",
      "Requirement already satisfied: tqdm>=4.27.0 in /Users/rashinfarahani/opt/anaconda3/lib/python3.9/site-packages (from shap) (4.64.0)\n",
      "Requirement already satisfied: packaging>20.9 in /Users/rashinfarahani/opt/anaconda3/lib/python3.9/site-packages (from shap) (21.3)\n",
      "Requirement already satisfied: slicer==0.0.8 in /Users/rashinfarahani/opt/anaconda3/lib/python3.9/site-packages (from shap) (0.0.8)\n",
      "Collecting numba (from shap)\n",
      "  Using cached numba-0.60.0-cp39-cp39-macosx_10_9_x86_64.whl.metadata (2.7 kB)\n",
      "Requirement already satisfied: cloudpickle in /Users/rashinfarahani/opt/anaconda3/lib/python3.9/site-packages (from shap) (1.1.1)\n",
      "Requirement already satisfied: pyparsing!=3.0.5,>=2.0.2 in /Users/rashinfarahani/opt/anaconda3/lib/python3.9/site-packages (from packaging>20.9->shap) (3.0.4)\n",
      "Requirement already satisfied: llvmlite<0.44,>=0.43.0dev0 in /Users/rashinfarahani/opt/anaconda3/lib/python3.9/site-packages (from numba->shap) (0.43.0)\n",
      "Requirement already satisfied: python-dateutil>=2.8.2 in /Users/rashinfarahani/opt/anaconda3/lib/python3.9/site-packages (from pandas->shap) (2.9.0.post0)\n",
      "Requirement already satisfied: pytz>=2020.1 in /Users/rashinfarahani/opt/anaconda3/lib/python3.9/site-packages (from pandas->shap) (2025.1)\n",
      "Requirement already satisfied: tzdata>=2022.7 in /Users/rashinfarahani/opt/anaconda3/lib/python3.9/site-packages (from pandas->shap) (2025.1)\n",
      "Requirement already satisfied: joblib>=1.2.0 in /Users/rashinfarahani/opt/anaconda3/lib/python3.9/site-packages (from scikit-learn->shap) (1.4.2)\n",
      "Requirement already satisfied: threadpoolctl>=3.1.0 in /Users/rashinfarahani/opt/anaconda3/lib/python3.9/site-packages (from scikit-learn->shap) (3.5.0)\n",
      "Requirement already satisfied: six>=1.5 in /Users/rashinfarahani/opt/anaconda3/lib/python3.9/site-packages (from python-dateutil>=2.8.2->pandas->shap) (1.17.0)\n",
      "Using cached shap-0.46.0-cp39-cp39-macosx_10_9_x86_64.whl (459 kB)\n",
      "Using cached numba-0.60.0-cp39-cp39-macosx_10_9_x86_64.whl (2.6 MB)\n",
      "Installing collected packages: numba, shap\n",
      "Successfully installed numba-0.60.0 shap-0.46.0\n"
     ]
    }
   ],
   "source": [
    "!pip install shap\n"
   ]
  },
  {
   "cell_type": "code",
   "execution_count": 18,
   "id": "67860b2d",
   "metadata": {},
   "outputs": [],
   "source": [
    "import matplotlib.pyplot as plt\n",
    "import seaborn as sns\n",
    "import numpy as np\n",
    "import shap\n"
   ]
  },
  {
   "cell_type": "code",
   "execution_count": 19,
   "id": "5dd79e3a",
   "metadata": {},
   "outputs": [
    {
     "data": {
      "image/png": "[encoded data removed]",
      "text/plain": [
       "<Figure size 432x288 with 1 Axes>"
      ]
     },
     "metadata": {
      "needs_background": "light"
     },
     "output_type": "display_data"
    }
   ],
   "source": [
    "plt.figure(figsize=(6, 4))\n",
    "sns.countplot(x=data['sentiment'], palette='coolwarm')\n",
    "plt.title('Distribution of Sentiment Labels')\n",
    "plt.xlabel('Sentiment (0=Negative, 1=Positive)')\n",
    "plt.ylabel('Count')\n",
    "plt.xticks([0, 1], ['Negative', 'Positive'])\n",
    "plt.show()\n",
    "\n"
   ]
  },
  {
   "cell_type": "markdown",
   "id": "bd180cae",
   "metadata": {},
   "source": [
    "## ⚡ Step 3: Train Models & Evaluate Performance\n",
    "We compare three models:  \n",
    "✔️ **Logistic Regression**  \n",
    "✔️ **Passive Aggressive Classifier**  \n",
    "✔️ **Naïve Bayes (Baseline)**\n"
   ]
  },
  {
   "cell_type": "code",
   "execution_count": 22,
   "id": "61eb64fe",
   "metadata": {},
   "outputs": [
    {
     "name": "stdout",
     "output_type": "stream",
     "text": [
      "                           Model  Accuracy\n",
      "0            Logistic Regression     0.833\n",
      "1  Passive Aggressive Classifier     0.822\n",
      "2         Naïve Bayes (Baseline)     0.832\n",
      "              precision    recall  f1-score   support\n",
      "0              0.840726  0.824111  0.832335   506.000\n",
      "1              0.823413  0.840081  0.831663   494.000\n",
      "accuracy       0.832000  0.832000  0.832000     0.832\n",
      "macro avg      0.832069  0.832096  0.831999  1000.000\n",
      "weighted avg   0.832173  0.832000  0.832003  1000.000\n"
     ]
    }
   ],
   "source": [
    "\n",
    "from sklearn.naive_bayes import MultinomialNB\n",
    "\n",
    "# پردازش متن: حذف HTML، تبدیل به حروف کوچک، حذف کاراکترهای غیر الفبایی\n",
    "def clean_text(text):\n",
    "    text = text.lower()\n",
    "    text = re.sub(r'<.*?>', '', text)  # حذف تگ‌های HTML\n",
    "    text = re.sub(r'[^a-z\\s]', '', text)  # حذف کاراکترهای غیر الفبایی\n",
    "    return text\n",
    "\n",
    "data['processed_review'] = data['review'].apply(clean_text)\n",
    "\n",
    "# تقسیم داده‌ها به مجموعه آموزش و آزمون\n",
    "X_train, X_test, y_train, y_test = train_test_split(\n",
    "    data['processed_review'], data['sentiment'], test_size=0.2, random_state=42\n",
    ")\n",
    "\n",
    "# تبدیل متن به ویژگی‌های TF-IDF\n",
    "vectorizer = TfidfVectorizer(max_features=5000, stop_words='english')\n",
    "X_train_tfidf = vectorizer.fit_transform(X_train)\n",
    "X_test_tfidf = vectorizer.transform(X_test)\n",
    "\n",
    "# مدل Logistic Regression\n",
    "lr_model = LogisticRegression()\n",
    "lr_model.fit(X_train_tfidf, y_train)\n",
    "y_pred_lr = lr_model.predict(X_test_tfidf)\n",
    "accuracy_lr = accuracy_score(y_test, y_pred_lr)\n",
    "\n",
    "# مدل Passive Aggressive Classifier\n",
    "pac_model = PassiveAggressiveClassifier()\n",
    "pac_model.fit(X_train_tfidf, y_train)\n",
    "y_pred_pac = pac_model.predict(X_test_tfidf)\n",
    "accuracy_pac = accuracy_score(y_test, y_pred_pac)\n",
    "\n",
    "# مدل Naïve Bayes (Baseline Model)\n",
    "nb_model = MultinomialNB()\n",
    "nb_model.fit(X_train_tfidf, y_train)\n",
    "y_pred_nb = nb_model.predict(X_test_tfidf)\n",
    "accuracy_nb = accuracy_score(y_test, y_pred_nb)\n",
    "\n",
    "# نمایش نتایج مدل‌ها\n",
    "results_df = pd.DataFrame({\n",
    "    \"Model\": [\"Logistic Regression\", \"Passive Aggressive Classifier\", \"Naïve Bayes (Baseline)\"],\n",
    "    \"Accuracy\": [accuracy_lr, accuracy_pac, accuracy_nb]\n",
    "})\n",
    "\n",
    "# گزارش عملکرد Naïve Bayes\n",
    "classification_report_nb = classification_report(y_test, y_pred_nb, output_dict=True)\n",
    "report_nb_df = pd.DataFrame(classification_report_nb).transpose()\n",
    "\n",
    "# نمایش نتایج\n",
    "print(results_df)\n",
    "print(report_nb_df)\n"
   ]
  },
  {
   "cell_type": "code",
   "execution_count": null,
   "id": "2a17f61e",
   "metadata": {},
   "outputs": [],
   "source": [
    "## 🔍 Error Analysis & Future Improvements\n",
    "- **Naïve Bayes performed surprisingly well**, making it a strong lightweight baseline model.  \n",
    "- **Logistic Regression achieved the highest accuracy (83.3%)**, making it a great choice for real-world applications.  \n",
    "- **Passive Aggressive Classifier had slightly lower performance**, suggesting that it may not be the best fit for this dataset.  \n",
    "- **Next Steps:**  \n",
    "  - Adding a **Deep Learning model (BERT or LSTM)**  \n",
    "  - Deploying as a **REST API using Flask or FastAPI**  \n",
    "  - Visualizing sentiment trends over time  \n"
   ]
  }
 ],
 "metadata": {
  "kernelspec": {
   "display_name": "Python 3 (ipykernel)",
   "language": "python",
   "name": "python3"
  },
  "language_info": {
   "codemirror_mode": {
    "name": "ipython",
    "version": 3
   },
   "file_extension": ".py",
   "mimetype": "text/x-python",
   "name": "python",
   "nbconvert_exporter": "python",
   "pygments_lexer": "ipython3",
   "version": "3.9.12"
  }
 },
 "nbformat": 4,
 "nbformat_minor": 5
}
